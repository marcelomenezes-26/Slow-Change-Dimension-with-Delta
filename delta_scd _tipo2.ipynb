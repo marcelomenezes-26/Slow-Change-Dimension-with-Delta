{
 "cells": [
  {
   "cell_type": "code",
   "execution_count": 0,
   "metadata": {
    "application/vnd.databricks.v1+cell": {
     "cellMetadata": {
      "byteLimit": 2048000,
      "rowLimit": 10000
     },
     "inputWidgets": {},
     "nuid": "8a079985-7fa1-4758-b32e-89f39f0282c3",
     "showTitle": true,
     "title": "Importando bibliotecas"
    }
   },
   "outputs": [],
   "source": [
    "from delta import *\n",
    "from pyspark.sql.functions import *\n",
    "import os\n",
    "from pyspark.sql.types import StructType,StructField, StringType, IntegerType, FloatType, DateType, BooleanType"
   ]
  },
  {
   "cell_type": "code",
   "execution_count": 0,
   "metadata": {
    "application/vnd.databricks.v1+cell": {
     "cellMetadata": {
      "byteLimit": 2048000,
      "rowLimit": 10000
     },
     "inputWidgets": {},
     "nuid": "3882bbdf-d78b-4e08-8c1c-9501f890c1d8",
     "showTitle": true,
     "title": "Criando tabela inicial Clientes no formato delta"
    }
   },
   "outputs": [],
   "source": [
    "data = [('123 Main St', True, '2022-01-01', None, 1),\n",
    "        ('456 Maple Ave', False, '2022-02-01', None, 2),\n",
    "        ('789 Oak Blvd', True, '2022-03-01', None, 3)]\n",
    "\n",
    "schema_clientes = StructType([\n",
    "        StructField(\"endereco\", StringType(), False),\n",
    "        StructField(\"ativo\", BooleanType(), False),\n",
    "        StructField(\"dt_inicio\", StringType(), False),\n",
    "        StructField(\"dt_final\", StringType(), True),\n",
    "        StructField(\"id_cliente\", IntegerType(), False)\n",
    "    ])\n",
    "\n",
    "df = spark.createDataFrame(data, schema=schema_clientes).select(\"id_cliente\", \"endereco\", \"ativo\", \"dt_inicio\", \"dt_final\")\n",
    "\n",
    "df.write.format(\"delta\").mode(\"overwrite\").saveAsTable(\"default.clientes\")"
   ]
  },
  {
   "cell_type": "code",
   "execution_count": 0,
   "metadata": {
    "application/vnd.databricks.v1+cell": {
     "cellMetadata": {
      "byteLimit": 2048000,
      "rowLimit": 10000
     },
     "inputWidgets": {},
     "nuid": "c7523ce4-25f8-488b-b34c-f76fced861fc",
     "showTitle": true,
     "title": "simulando a camada raw - Salvando os  novos dados"
    }
   },
   "outputs": [],
   "source": [
    "new_data = [('111 Main St', '2023-03-23', 1),\n",
    "        ('456 Maple Ave', '2022-02-01',  2),\n",
    "        ('789 Oak Blvd', '2022-03-01',  3)]\n",
    "\n",
    "schema_clientes = StructType([\n",
    "        StructField(\"endereco\", StringType(), False),\n",
    "        StructField(\"dt_inicio\", StringType(), False),\n",
    "        StructField(\"id_cliente\", IntegerType(), False)\n",
    "    ])\n",
    "\n",
    "new_df = spark.createDataFrame(new_data, schema=schema_clientes).select(\"id_cliente\", \"endereco\", \"dt_inicio\")"
   ]
  },
  {
   "cell_type": "code",
   "execution_count": 0,
   "metadata": {
    "application/vnd.databricks.v1+cell": {
     "cellMetadata": {
      "byteLimit": 2048000,
      "rowLimit": 10000
     },
     "inputWidgets": {},
     "nuid": "3c7dfd0e-10a4-4894-9307-7065460cad08",
     "showTitle": true,
     "title": "Lendo a tabela clientes"
    }
   },
   "outputs": [],
   "source": [
    "# Ler a tabela com os dados atuais\n",
    "tb_clientes = DeltaTable.forName(spark, \"default.clientes\")"
   ]
  },
  {
   "cell_type": "code",
   "execution_count": 0,
   "metadata": {
    "application/vnd.databricks.v1+cell": {
     "cellMetadata": {
      "byteLimit": 2048000,
      "rowLimit": 10000
     },
     "inputWidgets": {},
     "nuid": "f6b4baa9-94c2-4778-8286-4d2503811224",
     "showTitle": true,
     "title": "Criando dataframes intermediários para facilitar no merge com SCD tipo 2"
    }
   },
   "outputs": [],
   "source": [
    "# Dataframe com clientes existentes que possuem um novo endereço.\n",
    "tb_insert = new_df \\\n",
    "  .alias(\"updates\") \\\n",
    "  .join(tb_clientes.toDF().alias(\"clientes\"), \"id_cliente\") \\\n",
    "  .where(\"clientes.ativo = true AND updates.endereco <> clientes.endereco\")\n",
    "\n",
    "# União das linhas que serão inseridas e/ou alteradas\n",
    "tb_update = (\n",
    "  tb_insert\n",
    "  .selectExpr(\"NULL as mergeKey\", \"updates.*\")   # Linhas que serão inseridas na condição whenNotMatched \n",
    "  .union(new_df.selectExpr(\"id_cliente as mergeKey\", \"*\"))\n",
    ")"
   ]
  },
  {
   "cell_type": "code",
   "execution_count": 0,
   "metadata": {
    "application/vnd.databricks.v1+cell": {
     "cellMetadata": {
      "byteLimit": 2048000,
      "rowLimit": 10000
     },
     "inputWidgets": {},
     "nuid": "d04fd44a-adae-4fbc-8009-8ca202c15adb",
     "showTitle": true,
     "title": "Exibindo o dataframe tb_update para facilitar o entendimento"
    }
   },
   "outputs": [
    {
     "output_type": "display_data",
     "data": {
      "text/html": [
       "<style scoped>\n",
       "  .table-result-container {\n",
       "    max-height: 300px;\n",
       "    overflow: auto;\n",
       "  }\n",
       "  table, th, td {\n",
       "    border: 1px solid black;\n",
       "    border-collapse: collapse;\n",
       "  }\n",
       "  th, td {\n",
       "    padding: 5px;\n",
       "  }\n",
       "  th {\n",
       "    text-align: left;\n",
       "  }\n",
       "</style><div class='table-result-container'><table class='table-result'><thead style='background-color: white'><tr><th>mergeKey</th><th>id_cliente</th><th>endereco</th><th>dt_inicio</th></tr></thead><tbody><tr><td>null</td><td>1</td><td>111 Main St</td><td>2023-03-23</td></tr><tr><td>1</td><td>1</td><td>111 Main St</td><td>2023-03-23</td></tr><tr><td>2</td><td>2</td><td>456 Maple Ave</td><td>2022-02-01</td></tr><tr><td>3</td><td>3</td><td>789 Oak Blvd</td><td>2022-03-01</td></tr></tbody></table></div>"
      ]
     },
     "metadata": {
      "application/vnd.databricks.v1+output": {
       "addedWidgets": {},
       "aggData": [],
       "aggError": "",
       "aggOverflow": false,
       "aggSchema": [],
       "aggSeriesLimitReached": false,
       "aggType": "",
       "arguments": {},
       "columnCustomDisplayInfos": {},
       "data": [
        [
         null,
         1,
         "111 Main St",
         "2023-03-23"
        ],
        [
         1,
         1,
         "111 Main St",
         "2023-03-23"
        ],
        [
         2,
         2,
         "456 Maple Ave",
         "2022-02-01"
        ],
        [
         3,
         3,
         "789 Oak Blvd",
         "2022-03-01"
        ]
       ],
       "datasetInfos": [],
       "dbfsResultPath": null,
       "isJsonSchema": true,
       "metadata": {},
       "overflow": false,
       "plotOptions": {
        "customPlotOptions": {},
        "displayType": "table",
        "pivotAggregation": null,
        "pivotColumns": null,
        "xColumns": null,
        "yColumns": null
       },
       "removedWidgets": [],
       "schema": [
        {
         "metadata": "{}",
         "name": "mergeKey",
         "type": "\"integer\""
        },
        {
         "metadata": "{}",
         "name": "id_cliente",
         "type": "\"integer\""
        },
        {
         "metadata": "{}",
         "name": "endereco",
         "type": "\"string\""
        },
        {
         "metadata": "{}",
         "name": "dt_inicio",
         "type": "\"string\""
        }
       ],
       "type": "table"
      }
     },
     "output_type": "display_data"
    }
   ],
   "source": [
    "# As linhas que já estão na tabela atual, mas possuem um novo endereço estão com a coluna MergeKey = nulo, pois na etapa do merge serão inseridas como uma nova versão da linha\n",
    "display(tb_update)"
   ]
  },
  {
   "cell_type": "code",
   "execution_count": 0,
   "metadata": {
    "application/vnd.databricks.v1+cell": {
     "cellMetadata": {
      "byteLimit": 2048000,
      "rowLimit": 10000
     },
     "inputWidgets": {},
     "nuid": "39c472f4-7b9d-43db-aa86-4dd79e3b6b81",
     "showTitle": true,
     "title": "Realizando o merge final"
    }
   },
   "outputs": [],
   "source": [
    "# Merge SCD tipo 2\n",
    "tb_clientes.alias(\"old\").merge(\n",
    "    tb_update.alias(\"new\"),\n",
    "    \"old.id_cliente = mergeKey\") \\\n",
    ".whenMatchedUpdate(\n",
    "    condition = \"old.ativo = true AND old.endereco <> new.endereco\",\n",
    "    set = {\n",
    "        \"ativo\": \"false\",\n",
    "        \"dt_final\": \"new.dt_inicio\"\n",
    "    }\n",
    ").whenNotMatchedInsert(\n",
    "    values = {\n",
    "        \"id_cliente\": \"new.id_cliente\",\n",
    "        \"endereco\": \"new.endereco\",\n",
    "        \"ativo\": \"true\",\n",
    "        \"dt_inicio\": \"new.dt_inicio\",\n",
    "        \"dt_final\": \"null\"\n",
    "    }\n",
    ").execute()"
   ]
  },
  {
   "cell_type": "code",
   "execution_count": 0,
   "metadata": {
    "application/vnd.databricks.v1+cell": {
     "cellMetadata": {
      "byteLimit": 2048000,
      "rowLimit": 10000
     },
     "inputWidgets": {},
     "nuid": "6f01576e-a821-42fa-aff3-d165672d74dc",
     "showTitle": true,
     "title": "Exibindo o dataframe final da tabela Clientes"
    }
   },
   "outputs": [
    {
     "output_type": "display_data",
     "data": {
      "text/html": [
       "<style scoped>\n",
       "  .table-result-container {\n",
       "    max-height: 300px;\n",
       "    overflow: auto;\n",
       "  }\n",
       "  table, th, td {\n",
       "    border: 1px solid black;\n",
       "    border-collapse: collapse;\n",
       "  }\n",
       "  th, td {\n",
       "    padding: 5px;\n",
       "  }\n",
       "  th {\n",
       "    text-align: left;\n",
       "  }\n",
       "</style><div class='table-result-container'><table class='table-result'><thead style='background-color: white'><tr><th>id_cliente</th><th>endereco</th><th>ativo</th><th>dt_inicio</th><th>dt_final</th></tr></thead><tbody><tr><td>1</td><td>123 Main St</td><td>false</td><td>2022-01-01</td><td>2023-03-23</td></tr><tr><td>2</td><td>456 Maple Ave</td><td>false</td><td>2022-02-01</td><td>null</td></tr><tr><td>3</td><td>789 Oak Blvd</td><td>true</td><td>2022-03-01</td><td>null</td></tr><tr><td>1</td><td>111 Main St</td><td>true</td><td>2023-03-23</td><td>null</td></tr></tbody></table></div>"
      ]
     },
     "metadata": {
      "application/vnd.databricks.v1+output": {
       "addedWidgets": {},
       "aggData": [],
       "aggError": "",
       "aggOverflow": false,
       "aggSchema": [],
       "aggSeriesLimitReached": false,
       "aggType": "",
       "arguments": {},
       "columnCustomDisplayInfos": {},
       "data": [
        [
         1,
         "123 Main St",
         false,
         "2022-01-01",
         "2023-03-23"
        ],
        [
         2,
         "456 Maple Ave",
         false,
         "2022-02-01",
         null
        ],
        [
         3,
         "789 Oak Blvd",
         true,
         "2022-03-01",
         null
        ],
        [
         1,
         "111 Main St",
         true,
         "2023-03-23",
         null
        ]
       ],
       "datasetInfos": [],
       "dbfsResultPath": null,
       "isJsonSchema": true,
       "metadata": {},
       "overflow": false,
       "plotOptions": {
        "customPlotOptions": {},
        "displayType": "table",
        "pivotAggregation": null,
        "pivotColumns": null,
        "xColumns": null,
        "yColumns": null
       },
       "removedWidgets": [],
       "schema": [
        {
         "metadata": "{}",
         "name": "id_cliente",
         "type": "\"integer\""
        },
        {
         "metadata": "{}",
         "name": "endereco",
         "type": "\"string\""
        },
        {
         "metadata": "{}",
         "name": "ativo",
         "type": "\"boolean\""
        },
        {
         "metadata": "{}",
         "name": "dt_inicio",
         "type": "\"string\""
        },
        {
         "metadata": "{}",
         "name": "dt_final",
         "type": "\"string\""
        }
       ],
       "type": "table"
      }
     },
     "output_type": "display_data"
    }
   ],
   "source": [
    "display(spark.table(\"default.clientes\"))"
   ]
  }
 ],
 "metadata": {
  "application/vnd.databricks.v1+notebook": {
   "dashboards": [],
   "language": "python",
   "notebookMetadata": {
    "pythonIndentUnit": 4
   },
   "notebookName": "delta_scd _tipo2",
   "widgets": {}
  }
 },
 "nbformat": 4,
 "nbformat_minor": 0
}
